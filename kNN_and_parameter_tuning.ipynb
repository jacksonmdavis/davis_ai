{
 "cells": [
  {
   "cell_type": "markdown",
   "metadata": {},
   "source": [
    "## Jackson Davis k-Nearest-Neighbors, Cross-validation, and Parameter Tuning demo\n",
    "\n",
    "This notebook serves as a demonstration of some python code I wrote to implement k-Nearest-Neighbors and parameter tuning.  There was a significant focus on documentation and unit testing here, as well as getting a good handle on higher-order functions, generators, and other basic python concepts.  The code is not optimized for speed, but rather for readability and ease of use, and uses only python primitive data structures (e.g. no arrays or dataframes) as well as a functional, non-OOP programming style.\n",
    "\n",
    "The dataset used as a demonstration here is a popular Kaggle dataset for machine learning, the [Red Wine Quality dataset](https://www.kaggle.com/datasets/uciml/red-wine-quality-cortez-et-al-2009).  The dataset is included in the repo as `Datasets/winequality-red.csv`.\n",
    "\n",
    "For more information on myself or for contact, see https://www.sevenhillsmt.com/jackson-portfolio"
   ]
  },
  {
   "cell_type": "code",
   "execution_count": 1,
   "metadata": {},
   "outputs": [],
   "source": [
    "import random\n",
    "from typing import List, Dict, Tuple, Callable\n",
    "from copy import deepcopy\n",
    "from math import sqrt\n",
    "import numpy as np # Used for simple functions only, e.g. np.mean()\n",
    "import matplotlib.pyplot as plt"
   ]
  },
  {
   "cell_type": "markdown",
   "metadata": {},
   "source": [
    "After imports, the first thing we do is load up the dataset.  Because each dataset is structured somewhat differently, this function is not documented for reuse."
   ]
  },
  {
   "cell_type": "code",
   "execution_count": 2,
   "metadata": {},
   "outputs": [],
   "source": [
    "def load_data(file_name: str) -> tuple[list, list]:\n",
    "    with open(file_name, \"r\") as f:\n",
    "        header = f.readline().rstrip().split(\",\")\n",
    "        data = []\n",
    "        for line in f:\n",
    "            datum = [float(value) for value in line.rstrip().split(\",\")]\n",
    "            data.append(datum)\n",
    "        random.shuffle(data)\n",
    "    return data, header"
   ]
  },
  {
   "cell_type": "code",
   "execution_count": 3,
   "metadata": {},
   "outputs": [],
   "source": [
    "random.seed(3)\n",
    "data = load_data(\"Datasets\\winequality-red.csv\")[0]"
   ]
  },
  {
   "cell_type": "code",
   "execution_count": 4,
   "metadata": {
    "tags": []
   },
   "outputs": [
    {
     "data": {
      "text/plain": [
       "[8.0, 0.42, 0.17, 2.0, 0.073, 6.0, 18.0, 0.9972, 3.29, 0.61, 9.2, 6.0]"
      ]
     },
     "execution_count": 4,
     "metadata": {},
     "output_type": "execute_result"
    }
   ],
   "source": [
    "data[0]"
   ]
  },
  {
   "cell_type": "code",
   "execution_count": 5,
   "metadata": {},
   "outputs": [
    {
     "data": {
      "text/plain": [
       "1599"
      ]
     },
     "execution_count": 5,
     "metadata": {},
     "output_type": "execute_result"
    }
   ],
   "source": [
    "len(data)"
   ]
  },
  {
   "cell_type": "markdown",
   "metadata": {},
   "source": [
    "As we can see, the data is already loaded into a list of observations, with the target value as the final element of each observation, which is compatible with the code below.  The target value is a quality score from 0-10, and we will be using this as both a regression problem and a classification problem."
   ]
  },
  {
   "cell_type": "markdown",
   "metadata": {},
   "source": [
    "-------------------------"
   ]
  },
  {
   "cell_type": "markdown",
   "metadata": {},
   "source": [
    "# Standardization\n",
    "\n",
    "First a couple of simple functions to further process the data such that it is standardized.  This is a common preprocessing step for k-Nearest-Neighbors, as the algorithm is sensitive to the scale of the data.  We will be using the z-score standardization method, which is to subtract the mean and divide by the standard deviation for each feature."
   ]
  },
  {
   "cell_type": "markdown",
   "metadata": {},
   "source": [
    "<a id=\"z_score_standardize\"></a>\n",
    "## z_score_standardize\n",
    "\n",
    "`z_score_standardize` is a function that takes a dataset and returns a new dataset where each feature has been standardized to have a mean of 0 and a standard deviation of 1.  This is useful for improving the performance of some machine learning algorithms, such as K Nearest Neighbors, that are sensitive to the scale of the features.  Standardizing the features ensures that each feature is treated equally by the algorithm.\n",
    "\n",
    "* **data** `list[list]`: a list of observations, each of which is a list of values for each feature.  **There should be no target values in this dataset.**\n",
    "\n",
    "**return** `list[list]`: the same observations, but with each feature standardized to have a mean of 0 and a standard deviation of 1"
   ]
  },
  {
   "cell_type": "code",
   "execution_count": 6,
   "metadata": {},
   "outputs": [],
   "source": [
    "def z_score_standardize(data: list[list]) -> list[list]:\n",
    "    data = deepcopy(data)\n",
    "    for i in range(len(data[0])):\n",
    "        column = [row[i] for row in data]\n",
    "        mean = np.mean(column)\n",
    "        std = np.std(column)\n",
    "        for row in data:\n",
    "            row[i] = (row[i] - mean) / std\n",
    "    return data"
   ]
  },
  {
   "cell_type": "code",
   "execution_count": 7,
   "metadata": {},
   "outputs": [],
   "source": [
    "test_data = [[0,0,0,0], [1,1,1,2], [2,2,2,6]]\n",
    "test_z_score = z_score_standardize(test_data)\n",
    "assert np.allclose(np.mean(test_z_score, axis=0), [0,0,0,0])\n",
    "assert np.allclose(np.std(test_z_score, axis=0), [1,1,1,1])\n",
    "\n",
    "test_data = np.random.rand(100, 4)\n",
    "test_z_score = z_score_standardize(test_data)\n",
    "assert len(test_z_score) == 100\n",
    "assert np.allclose(np.mean(test_z_score, axis=0), [0,0,0,0])\n",
    "assert np.allclose(np.std(test_z_score, axis=0), [1,1,1,1])"
   ]
  },
  {
   "cell_type": "markdown",
   "metadata": {},
   "source": [
    "<a id=\"process_data_x_only\"></a>\n",
    "## process_data_x_only\n",
    "\n",
    "`process_data_x_only` is a helper function that takes data in which the target value is the last value in each observation, separates the observation data from the target values, and runs a given process on the observations (without the target values) before recombining.  It could be taken a step further and include a `split` and `recombine` function, but the risk of drowning in documentation may be increased.\n",
    "\n",
    "* **data** `list[list]`: a list of observations, each of which is a list of values for each feature.  **The target value is the last item in each observation.**\n",
    "* **process** `callable`: a function that takes a dataset and returns a new, processed dataset\n",
    "\n",
    "**return** `list[list]`: the same observations, but with a process run on the non-target portion of each observation"
   ]
  },
  {
   "cell_type": "code",
   "execution_count": 8,
   "metadata": {},
   "outputs": [],
   "source": [
    "def process_data_x_only(data: list[list], process: callable) -> list[list]:\n",
    "    data = deepcopy(data)\n",
    "    \n",
    "    data_x = [row[:-1] for row in data]\n",
    "    data_y = [[row[-1]] for row in data]\n",
    "    data_x = process(data_x)\n",
    "\n",
    "    for i in range(len(data)):\n",
    "        data[i] = data_x[i] + data_y[i]\n",
    "\n",
    "    return data"
   ]
  },
  {
   "cell_type": "code",
   "execution_count": 9,
   "metadata": {},
   "outputs": [],
   "source": [
    "test_data = [[1,1,1,1], [1,1,1,1], [1,1,1,1]]\n",
    "test_processed = process_data_x_only(test_data, lambda x: [[0,0,0], [0,0,0], [0,0,0]])\n",
    "assert test_processed == [[0,0,0,1], [0,0,0,1], [0,0,0,1]]\n",
    "test_processed = process_data_x_only(test_data, lambda x: [[1,0,0], [0,1,0], [0,0,1]])\n",
    "assert test_processed == [[1,0,0,1], [0,1,0,1], [0,0,1,1]]\n",
    "test_processed = process_data_x_only(test_data, lambda x: [[1,1,0], [0,1,1], [1,0,1]])\n",
    "assert test_processed == [[1,1,0,1], [0,1,1,1], [1,0,1,1]]"
   ]
  },
  {
   "cell_type": "code",
   "execution_count": 10,
   "metadata": {},
   "outputs": [
    {
     "name": "stdout",
     "output_type": "stream",
     "text": [
      "[-0.18364134481694747, -0.6023367688141634, -0.5185144220985399, -0.38227061366211557, -0.30746785242725816, -0.9443463560547672, -0.8656761636507785, 0.24026624565698693, -0.13679826698989317, -0.2841411376234579, -1.1479806048222734, 6.0]\n"
     ]
    }
   ],
   "source": [
    "data = process_data_x_only(data, z_score_standardize)\n",
    "print(data[0])"
   ]
  },
  {
   "cell_type": "markdown",
   "metadata": {},
   "source": [
    "---------------------------"
   ]
  },
  {
   "cell_type": "markdown",
   "metadata": {},
   "source": [
    "# kNN algorithm\n",
    "\n",
    "The functions below are the building blocks of a k-Nearest-Neighbors (kNN) algorithm, a simple and very common classificiation/regression algorithm.  The algorithm is very simple: given a set of observations with known target values, and a new observation with an unknown target value, find the k most similar observations in the dataset, and use their target values to predict the target value of the new observation.  The similarity metric used here is the Euclidean distance between the observations, but other metrics could be used as well."
   ]
  },
  {
   "cell_type": "markdown",
   "metadata": {},
   "source": [
    "<a id=\"euclidean_distance\"></a>\n",
    "## euclidean_distance\n",
    "\n",
    "`euclidean_distance` calculates the Euclidean distance between two points in n-dimensional space according to the following formula:\n",
    "$$d(x_1,x_2) = \\sqrt{\\sum^n_{i=1}(x_{1i} - x_{2i})^2}$$\n",
    "In the [knn](#knn) algorithm, where we are searching for `K Nearest Neighbors`, we use this function as the metric that defines `nearest`.  For this use case, we do not need to find the *actual* distance, just the *relative* distance between two points, so we can omit the square root operation when calling this as part of K Nearest Neighbors to make the function a bit faster.\n",
    "\n",
    "**Used by**: [kNN](#kNN)\n",
    "\n",
    "* **x1** `list`: a list of values representing a point in n-dimensional space\n",
    "* **x2** `list`: a list of values representing a second point in n-dimensional space\n",
    "* **do_sqrt** `bool`: whether or not to take the square root of the squared distance when calculating\n",
    "\n",
    "**return** `float`: the Euclidean distance between the two points (possibly squared)"
   ]
  },
  {
   "cell_type": "code",
   "execution_count": 11,
   "metadata": {},
   "outputs": [],
   "source": [
    "def euclidean_distance(x1: list, x2: list, do_sqrt: bool = True) -> float:\n",
    "    distance_squared = sum((x1_i - x2_i) ** 2 for x1_i, x2_i in zip(x1, x2))\n",
    "    if do_sqrt:\n",
    "        return sqrt(distance_squared)\n",
    "    else:\n",
    "        return distance_squared"
   ]
  },
  {
   "cell_type": "code",
   "execution_count": 12,
   "metadata": {},
   "outputs": [],
   "source": [
    "assert euclidean_distance([0, 0], [1, 1]) == sqrt(2)\n",
    "assert euclidean_distance([0, 0], [1, 1], do_sqrt=False) == 2\n",
    "assert euclidean_distance([0, 0], [0, 0]) == 0\n",
    "assert euclidean_distance([-1, 0], [1, 0]) == 2"
   ]
  },
  {
   "cell_type": "markdown",
   "metadata": {},
   "source": [
    "<a id=\"knn_real_regression\"></a>\n",
    "## knn_real_regression\n",
    "\n",
    "`knn_real_regression` is a function that processes the list of *real \"y\" values only* for the K points found via the [knn](#knn) algorithm and simply returns the mean of these values.  It is for the real-valued regression use case of KNN.  It probably could just be called \"mean\", but it serves as a semantic reminder of its function and a complement to the categorical use case.\n",
    "\n",
    "**Used by**: [kNN](#kNN)\n",
    "\n",
    "* **nearest** `list[float]`: a list of target values for the K Nearest Neighbors\n",
    "\n",
    "**return** `float`: the mean of the target values"
   ]
  },
  {
   "cell_type": "code",
   "execution_count": 13,
   "metadata": {},
   "outputs": [],
   "source": [
    "def knn_real_regression(nearest: list[float]) -> float:\n",
    "    return np.mean(nearest)"
   ]
  },
  {
   "cell_type": "code",
   "execution_count": 14,
   "metadata": {},
   "outputs": [],
   "source": [
    "test_data = [1,2,3]\n",
    "assert knn_real_regression(test_data) == 2\n",
    "test_data = [1,2,3,4]\n",
    "assert knn_real_regression(test_data) == 2.5\n",
    "test_data = [-1,-2,0,1,2]\n",
    "assert knn_real_regression(test_data) == 0"
   ]
  },
  {
   "cell_type": "markdown",
   "metadata": {},
   "source": [
    "<a id=\"knn_cat_classification\"></a>\n",
    "## knn_cat_classification\n",
    "\n",
    "`knn_cat_classification` is a function that processes the list of *categorical \"y\" values only* for the K points found via the [knn](#knn) algorithm and returns the most frequent category value in the list.  It is for the categorical classification use case of KNN.  It could probably just be called \"find_most_frequent\", but it serves as a semantic reminder of its function and a complement to the regression use case.\n",
    "\n",
    "**Used by**: [kNN](#kNN)\n",
    "\n",
    "* **nearest** `list[str]`: a list of target classes for the K Nearest Neighbors\n",
    "\n",
    "**return** `str`: the most frequent class in the list"
   ]
  },
  {
   "cell_type": "code",
   "execution_count": 15,
   "metadata": {},
   "outputs": [],
   "source": [
    "def knn_cat_classification(nearest: list[str]) -> str:\n",
    "    classes, counts = np.unique(nearest, return_counts=True)\n",
    "    return classes[np.argmax(counts)]"
   ]
  },
  {
   "cell_type": "code",
   "execution_count": 16,
   "metadata": {},
   "outputs": [],
   "source": [
    "test_data = [1,2,2]\n",
    "assert knn_cat_classification(test_data) == 2\n",
    "test_data = [1,2,3,3]\n",
    "assert knn_cat_classification(test_data) == 3\n",
    "test_data = ['blue','blue','green','red']\n",
    "assert knn_cat_classification(test_data) == 'blue'"
   ]
  },
  {
   "cell_type": "markdown",
   "metadata": {},
   "source": [
    "<a id=\"knn\"></a>\n",
    "## knn\n",
    "\n",
    "`knn` is an implementation of the \"K Nearest Neighbors\" algorithm for classification and regression.  It takes a \"knowledge base\" dataset of observations and their target values, a new observation, and a value for K, and returns the predicted target value for the new observation.  The algorithm works by finding the K observations *nearest* to the new observation in the knowledge base and then using the target values of those K observations to predict the target value of the new observation.  For regression, the predicted target value is the mean of the K target values.  For classification, the predicted target value is the most frequent target value in the K target values.\n",
    "\n",
    "**Used by**: \n",
    "**Uses**: [euclidean_distance](#euclidean_distance), [knn_real_regression](#knn_real_regression), [knn_cat_classification](#knn_cat_classification)\n",
    "\n",
    "* **dataset** `list[list]`: a list of observations, each of which is a list of values for each dimension.  **The target value is the last value in each dataset observation.**\n",
    "* **query_point** `list`: a list representing a single observation with no target value.  **len(query_point) == len(dataset[0]) - 1 should be True**\n",
    "* **processing** `callable`: a function that processes the list of target values for the K Nearest Neighbors and returns a single value.  For regression, this is [knn_real_regression](#knn_real_regression).  For classification, this is [knn_cat_classification](#knn_cat_classification).\n",
    "* **k** `int`: the number of nearest neighbors to find and use for prediction\n",
    "\n",
    "**return** `float|str`: the predicted target value for the new observation"
   ]
  },
  {
   "cell_type": "code",
   "execution_count": 17,
   "metadata": {},
   "outputs": [],
   "source": [
    "def knn(dataset: list, query_point: list, processing: callable, k: int) -> float:\n",
    "    distances = []\n",
    "    for datapoint in dataset:\n",
    "        distances.append((euclidean_distance(datapoint[:-1], query_point, do_sqrt=False), datapoint))\n",
    "    distances.sort(key=lambda x: x[0])\n",
    "    nearest_values = [item[1][-1] for item in distances[:k]]\n",
    "    return processing(nearest_values)"
   ]
  },
  {
   "cell_type": "code",
   "execution_count": 18,
   "metadata": {},
   "outputs": [],
   "source": [
    "test_data = [[0,0,0,'blue'], [1,1,1,'blue'], [2,2,2,'red']]\n",
    "test_query = [1,1,1]\n",
    "assert knn(test_data, test_query, knn_cat_classification, 2) == 'blue'\n",
    "\n",
    "test_data = [[0,0,0,1], [1,1,1,1], [2,2,2,6], [3,3,3,0]]\n",
    "test_query = [9,9,9]\n",
    "assert knn(test_data, test_query, knn_real_regression, 4) == 2\n",
    "assert knn(test_data, test_query, knn_cat_classification, 4) == 1"
   ]
  },
  {
   "cell_type": "markdown",
   "metadata": {},
   "source": [
    "<a id=\"make_knn_func\"></a>\n",
    "## make_knn_func\n",
    "\n",
    "`make_knn_func` is wrapper function that takes a dataset and a value for K and returns a K Nearest Neighbors ([knn](#knn)) function that can be used to make predictions for new observations.  This is useful for the [k_fold_evaluate](#k_fold_evaluate) function because it allows us to pass our KNN function in as a general 'classifier' function (with appropriate arguments) to be evaluated.\n",
    "\n",
    "**Uses**: [knn](#knn)\n",
    "**Used by**: [k_fold_evaluate](#k_fold_evaluate)\n",
    "\n",
    "* **processing** `callable`: the method for processing the list of target values to return a single value.  For regression, this is [knn_real_regression](#knn_real_regression).  For classification, this is [knn_cat_classification](#knn_cat_classification).\n",
    "\n",
    "**return** `callable`: a K Nearest Neighbors function that can be used to make predictions for new observations"
   ]
  },
  {
   "cell_type": "code",
   "execution_count": 19,
   "metadata": {},
   "outputs": [],
   "source": [
    "def make_knn_func(processing: callable, k: int):\n",
    "    def knn_func(dataset: list, query_point: list):\n",
    "        return knn(dataset, query_point, processing, k)\n",
    "    return knn_func"
   ]
  },
  {
   "cell_type": "code",
   "execution_count": 20,
   "metadata": {},
   "outputs": [],
   "source": [
    "# Same tests as before\n",
    "test_data = [[0,0,0,'blue'], [1,1,1,'blue'], [2,2,2,'red']]\n",
    "test_query = [1,1,1]\n",
    "knn_func = make_knn_func(knn_cat_classification, 2)\n",
    "assert knn_func(test_data, test_query) == 'blue'\n",
    "\n",
    "test_data = [[0,0,0,1], [1,1,1,1], [2,2,2,6], [3,3,3,0]]\n",
    "test_query = [9,9,9]\n",
    "knn_func = make_knn_func(knn_real_regression, 4)\n",
    "assert knn_func(test_data, test_query) == 2\n",
    "knn_func = make_knn_func(knn_cat_classification, 4)\n",
    "assert knn_func(test_data, test_query) == 1"
   ]
  },
  {
   "cell_type": "markdown",
   "metadata": {},
   "source": [
    "----------------------------"
   ]
  },
  {
   "cell_type": "markdown",
   "metadata": {},
   "source": [
    "# Cross-validation\n",
    "\n",
    "Now that kNN has been built, below is a simple implementation of k-fold cross-validation (yes, multiple uses of the letter 'k' is confusing), as well as some other simple performance validation tools."
   ]
  },
  {
   "cell_type": "markdown",
   "metadata": {},
   "source": [
    "<a id=\"k_fold_iterator\"></a>\n",
    "## k_fold_iterator\n",
    "\n",
    "`k_fold_iterator` is a helper function that takes a dataset and a value for K and returns a generator that yields a list of K train/test folds for K-fold evaluation.  Each fold is a list of two lists: the first list is the training set and the second list is the test set.  **This function does not take specific target value location into account but assumes the target value is contained within each observation.**\n",
    "\n",
    "**Used by**: [k_fold_evaluate](#k_fold_evaluate)\n",
    "\n",
    "* **data** `list`: a list of observations\n",
    "* **k** `int`: the number of folds to create\n",
    "* **num_tests** `int`: length of the list of folds to return, if other than K.  This is useful for creating a single or small number of train/test folds, e.g. for parameter tuning.\n",
    "\n",
    "**yield** `Tuple[list[list], list[list]]`: the train and test sets for each fold"
   ]
  },
  {
   "cell_type": "code",
   "execution_count": 21,
   "metadata": {},
   "outputs": [],
   "source": [
    "def k_fold_iterator(data:list, k: int = 10, num_tests: int = None):\n",
    "    if num_tests is None:\n",
    "        num_tests = k\n",
    "    random.shuffle(data)\n",
    "\n",
    "    for i in range(num_tests):\n",
    "        test = data[i*len(data)//k : (i+1)*len(data)//k]\n",
    "        train = data[:i*len(data)//k] + data[(i+1)*len(data)//k:]\n",
    "        yield train, test"
   ]
  },
  {
   "cell_type": "code",
   "execution_count": 22,
   "metadata": {},
   "outputs": [],
   "source": [
    "fold_test_data = [[0,0,0,0], [1,1,1,2], [2,2,2,6]]\n",
    "answers = [4,3,1]\n",
    "\n",
    "for training, test in k_fold_iterator(fold_test_data, 3):\n",
    "    assert knn(training, test[0][:-1], knn_real_regression, 2) in answers"
   ]
  },
  {
   "cell_type": "markdown",
   "metadata": {},
   "source": [
    "<a id=\"mean_squared_error\"></a>\n",
    "## mean_squared_error\n",
    "\n",
    "`mean_squared_error` is a function that calculates the mean squared error between two lists of real values.  It is used to evaluate the performance of a regression model by comparing the predicted target values to the actual target values.  The formula for MSE is:\n",
    "$$MSE = \\frac{1}{n}\\sum^n_i (y_i - \\hat{y}_i)^2$$\n",
    "where $y_i$ is the actual target value and $\\hat{y}_i$ is the predicted target value.\n",
    "\n",
    "**Used by**: [k_fold_evaluate](#k_fold_evaluate)\n",
    "\n",
    "* **predicted** `list[float]`: a list of predicted target values\n",
    "* **actual** `list[float]`: a list of actual target values\n",
    "\n",
    "**return** `float`: the mean squared error between the lists of predicted and actual target values"
   ]
  },
  {
   "cell_type": "code",
   "execution_count": 23,
   "metadata": {},
   "outputs": [],
   "source": [
    "def mean_squared_error(predicted: list, actual: list) -> float:\n",
    "    return np.mean([(predicted_value - actual_value) ** 2 for predicted_value, actual_value in zip(predicted, actual)])"
   ]
  },
  {
   "cell_type": "code",
   "execution_count": 24,
   "metadata": {},
   "outputs": [],
   "source": [
    "assert mean_squared_error([1,2,3], [1,2,3]) == 0\n",
    "assert mean_squared_error([1,2,3,4], [3,2,1,4]) == 2\n",
    "assert mean_squared_error([3,-1,4], [3,2,4]) == 3"
   ]
  },
  {
   "cell_type": "markdown",
   "metadata": {},
   "source": [
    "<a id=\"simple_accuracy\"></a>\n",
    "## simple_accuracy\n",
    "\n",
    "`simple_accuracy` is a function that compares a list of predicted target values to a list of actual target values and returns the percentage of correct predictions.  It is used to evaluate the performance of a classification model, and is best used when classes are relatively balanced within the dataset.\n",
    "\n",
    "**Used by**: [k_fold_evaluate](#k_fold_evaluate)\n",
    "\n",
    "* **predicted** `list[float]`: a list of predicted target values\n",
    "* **actual** `list[float]`: a list of actual target values\n",
    "\n",
    "**return** `float`: the percentage of correct predictions"
   ]
  },
  {
   "cell_type": "code",
   "execution_count": 25,
   "metadata": {},
   "outputs": [],
   "source": [
    "def simple_accuracy(predicted: list, actual: list) -> float:\n",
    "    return np.mean([predicted_value == actual_value for predicted_value, actual_value in zip(predicted, actual)])"
   ]
  },
  {
   "cell_type": "code",
   "execution_count": 26,
   "metadata": {},
   "outputs": [],
   "source": [
    "assert simple_accuracy([1,2,3], [1,2,3]) == 1\n",
    "assert simple_accuracy([1,2,3,4], [3,2,1,4]) == 0.5\n",
    "assert simple_accuracy([3,-1,4], [3,2,4]) == 2/3"
   ]
  },
  {
   "cell_type": "markdown",
   "metadata": {},
   "source": [
    "<a id=\"results_printer\"></a>\n",
    "## results_printer\n",
    "\n",
    "`results_printer` is a printing function that accepts a list of results from [k_fold_evaluate](#k_fold_evaluate) and prints the results, split into 'training' and 'testing' evaluations, in a nicely formatted table.  It accepts a dictionary in the form `{'train': [], 'test': []}` where the lists are the results from each fold.  It also prints the mean and std of the results.\n",
    "\n",
    "**Used by**: [k_fold_evaluate](#k_fold_evaluate)\n",
    "\n",
    "* **results** `dict`: a dictionary of results from [k_fold_evaluate](#k_fold_evaluate)\n",
    "* **verbose** `bool`: whether or not to print the individual results for each fold\n",
    "\n",
    "**no return (This function has side effects, i.e. the printing)**"
   ]
  },
  {
   "cell_type": "code",
   "execution_count": 27,
   "metadata": {},
   "outputs": [],
   "source": [
    "def results_printer(results: dict, verbose: bool = True):\n",
    "    if verbose:\n",
    "        print(\"Fold\\t  Train\\t\\t Test\")\n",
    "        for i in range(len(results[\"train\"])): # same length as test\n",
    "            print(f\"{i+1}:\\t  {format(results['train'][i], '.4f')} \\t {format(results['test'][i], '.4f')}\")\n",
    "        print(\"-----\")\n",
    "    print(f\"avg\\t  {format(np.mean(results['train']), '.4f')} \\t {format(np.mean(results['test']), '.4f')}\")\n",
    "    print(f\"std\\t  {format(np.std(results['train']), '.4f')} \\t {format(np.std(results['test']), '.4f')}\")\n"
   ]
  },
  {
   "cell_type": "markdown",
   "metadata": {},
   "source": [
    "<a id=\"classify\"></a>\n",
    "## classify\n",
    "\n",
    "`classify` is an intermediary function that takes a set of training data, a set of test data, and a classifier function and returns the results of the classifier function on the training and test data.  It is used by [k_fold_evaluate](#k_fold_evaluate) to evaluate the performance of a classifier function on a set of folds.\n",
    "\n",
    "**Used by**: [k_fold_evaluate](#k_fold_evaluate)\n",
    "\n",
    "* **train_data** `list[list]`: a list of training observations.  **The target value is the last value in each observation.**\n",
    "* **test_data** `list[list]`: a list of testing observations.  **Test data should also have the target value as the last element in each observation.  If none is available, I guess you have to put in a dummy value or everything just falls right apart.**\n",
    "* **classifier** `callable`: a classifier function that takes a dataset and an observation and returns a predicted target value\n",
    "\n",
    "**return** `list`: a list of predicted target values for the observations in the test data"
   ]
  },
  {
   "cell_type": "code",
   "execution_count": 28,
   "metadata": {},
   "outputs": [],
   "source": [
    "def classify(train_data: list[list], test_data: list[list], classifier) -> list:\n",
    "    predicted = []\n",
    "    for test_point in test_data:\n",
    "        predicted.append(classifier(train_data, test_point[:-1]))\n",
    "    return predicted"
   ]
  },
  {
   "cell_type": "markdown",
   "metadata": {},
   "source": [
    "<a id=\"baseline_regression\"></a>\n",
    "## baseline_regression\n",
    "\n",
    "`baseline_regression` is a simple 'regression' function that takes a training dataset and returns the mean of the target values in the dataset as the prediction for the target value of each observation in the test set.  It is used as the baseline model for comparison with the other regression models.\n",
    "\n",
    "**Used by**: [k_fold_evaluate](#k_fold_evaluate)\n",
    "\n",
    "* **train_data** `list[list]`: a list of training observations.  **The target value is the last value in each observation.**\n",
    "* **test_point** `list`: a query point to be 'classified' (regressed??).  **This parameter is unused, but included for compatibility**\n",
    "\n",
    "**return** `list`: a list of predicted target values for the observations in the test data"
   ]
  },
  {
   "cell_type": "code",
   "execution_count": 29,
   "metadata": {},
   "outputs": [],
   "source": [
    "def baseline_regression(train_data: list[list], test_point: list) -> float:\n",
    "    return np.mean([train_point[-1] for train_point in train_data])"
   ]
  },
  {
   "cell_type": "code",
   "execution_count": 30,
   "metadata": {},
   "outputs": [],
   "source": [
    "test_data = [[0,0,0,1], [1,1,1,1], [2,2,2,2], [3,3,3,2]]\n",
    "test_query = [1,2,3,4]\n",
    "assert baseline_regression(test_data, test_query) == 1.5\n",
    "test_data = [[9,1], [9,2], [9,3], [9,4]]\n",
    "test_query = [12,16]\n",
    "assert baseline_regression(test_data, test_query) == 2.5\n",
    "test_data = [[1,2], [2,2], [3,4], [4,4]]\n",
    "test_query = ['gibberish']\n",
    "assert baseline_regression(test_data, test_query) == 3"
   ]
  },
  {
   "cell_type": "markdown",
   "metadata": {},
   "source": [
    "<a id=\"baseline_classification\"></a>\n",
    "## baseline_classification\n",
    "\n",
    "`baseline_classification` is a simple 'classification' function that takes a training dataset and returns the most frequent target value in the dataset as the prediction for the target value of each observation in the test set.  It is used as the baseline model for comparison with the other classification models.\n",
    "\n",
    "**Used by**: [k_fold_evaluate](#k_fold_evaluate)\n",
    "\n",
    "* **train_data** `list[list]`: a list of training observations.  **The target value is the last value in each observation.**\n",
    "* **test_point** `list`: a query point to be 'classified'.  **This parameter is unused, but included for compatibility**\n",
    "\n",
    "**return** `list`: a list of predicted target values for the observations in the test data"
   ]
  },
  {
   "cell_type": "code",
   "execution_count": 31,
   "metadata": {},
   "outputs": [],
   "source": [
    "def baseline_classification(train_data: list[list], test_point: list) -> str:\n",
    "    classes, counts = np.unique([train_point[-1] for train_point in train_data], return_counts=True)\n",
    "    return classes[np.argmax(counts)]"
   ]
  },
  {
   "cell_type": "code",
   "execution_count": 32,
   "metadata": {},
   "outputs": [],
   "source": [
    "test_data = [[0,0,0,1], [1,1,1,1], [2,2,2,2], [3,3,3,3]]\n",
    "test_query = [1,2,3,4]\n",
    "assert baseline_classification(test_data, test_query) == 1\n",
    "test_data = [[9,'cat'], [6,'cat'], [12,'dog']]\n",
    "test_query = [12,16]\n",
    "assert baseline_classification(test_data, test_query) == 'cat'\n",
    "test_data = [[1,2], [2,3], [3,4], [4,4]]\n",
    "test_query = ['gibberish']\n",
    "assert baseline_classification(test_data, test_query) == 4"
   ]
  },
  {
   "cell_type": "markdown",
   "metadata": {},
   "source": [
    "<a id=\"k_fold_evaluate\"></a>\n",
    "## k_fold_evaluate\n",
    "\n",
    "`k_fold_evaluate` is a pipeline function for evaluating the performance of classifiers on a dataset using k-fold cross validation.  It takes a set of data, splits it into k train-test folds for evaluation, and passes the data into the given classifier function. It then evaluates the results with a given evaluation metric.  The function also optionally prints the results of the evaluation using [results_printer](#results_printer).\n",
    "\n",
    "**Uses**: [iterate_folds](#iterate_folds), [classify](#classify), [results_printer](#results_printer)\n",
    "\n",
    "* **data** `list`: the dataset to be split into folds and evaluated\n",
    "* **k** `int`: the number of folds to split the data into\n",
    "* **classifier** `callable`: a classifier function that takes a dataset and an observation and returns a predicted target value\n",
    "* **evaluator** `callable`: an evaluation metric function that takes a list of predicted target values and a list of actual target values and returns a single value representing a generalization error metric\n",
    "* **num_tests** `int`: the number of times to run the evaluation if you don't want to loop through all the folds (because it takes a long time).  Default None runs the evaluation on all the folds.\n",
    "* **print_results** `bool`: whether or not to print the results of the evaluation\n",
    "* **verbose** `bool`: whether or not to print the individual results for each fold\n",
    "\n",
    "\n",
    "**return** `dict`: a dictionary of results from the evaluation in the form `{'avg_train': float, 'std_train': float, 'avg_test': float, 'std_test': float}`"
   ]
  },
  {
   "cell_type": "code",
   "execution_count": 33,
   "metadata": {},
   "outputs": [],
   "source": [
    "def k_fold_evaluate(data: list, evaluator: callable, classifier: callable, *, k_folds: int = 10, num_tests: int = None, print_results:bool = True, verbose:bool = True) -> float:\n",
    "    results = {'train': [], 'test': []}\n",
    "    for training, test in k_fold_iterator(data, k=k_folds, num_tests=num_tests):\n",
    "        results['train'].append(evaluator(classify(training, training, classifier), [train_point[-1] for train_point in training]))\n",
    "        results['test'].append(evaluator(classify(training, test, classifier), [test_point[-1] for test_point in test]))\n",
    "        \n",
    "    if print_results:\n",
    "        results_printer(results, verbose)\n",
    "    \n",
    "    returns = {'avg_train': np.mean(results['train']), 'std_train': np.std(results['train']),\n",
    "               'avg_test': np.mean(results['test']), 'std_test': np.std(results['test'])}\n",
    "\n",
    "    return returns"
   ]
  },
  {
   "cell_type": "markdown",
   "metadata": {},
   "source": [
    "--------------------"
   ]
  },
  {
   "cell_type": "markdown",
   "metadata": {},
   "source": [
    "# Hyperparameter Tuning\n",
    "\n",
    "For our example, we want to choose the value of k that provides us with the most accuracy while still generalizing well to new data.  We will use the `k_fold_evaluate` function and some quick throwaway code to evaluate the performance of our kNN algorithm on a range of k values, and then choose the k value that provides the best performance.  This example uses a smaller dataset for efficiency, as the runtime of kNN is not exactly fast, and the larger the dataset (and the larger value of k), the longer it takes to run."
   ]
  },
  {
   "cell_type": "code",
   "execution_count": 34,
   "metadata": {},
   "outputs": [
    {
     "name": "stdout",
     "output_type": "stream",
     "text": [
      "Best k: 23 with average MSE: 0.4115146502835539\n"
     ]
    }
   ],
   "source": [
    "ks = list(range(1, 41, 2))\n",
    "train_ks = []\n",
    "test_ks = []\n",
    "average_results = []\n",
    "for k in ks:\n",
    "    test_result = k_fold_evaluate(data[:800], mean_squared_error, make_knn_func(knn_real_regression, k), print_results=False, verbose=False)\n",
    "    train_ks.append(test_result['avg_train'])\n",
    "    test_ks.append(test_result['avg_test'])\n",
    "    average_results.append((test_result['avg_test'], k))\n",
    "average_results.sort(key=lambda x: x[0])\n",
    "best_result = average_results[0]\n",
    "print(f\"Best k: {best_result[1]} with average MSE: {best_result[0]}\")"
   ]
  },
  {
   "cell_type": "code",
   "execution_count": 35,
   "metadata": {},
   "outputs": [
    {
     "data": {
      "image/png": "[encoded data removed]",
      "text/plain": [
       "<Figure size 640x480 with 1 Axes>"
      ]
     },
     "metadata": {},
     "output_type": "display_data"
    }
   ],
   "source": [
    "plt.plot(ks, train_ks, 'b', ks, test_ks, 'r')\n",
    "plt.legend(['Train', 'Test'])\n",
    "plt.xlabel('k')\n",
    "plt.ylabel('MSE')\n",
    "plt.gca().invert_xaxis()\n",
    "plt.show()"
   ]
  },
  {
   "cell_type": "markdown",
   "metadata": {},
   "source": [
    "----------------------------------"
   ]
  },
  {
   "cell_type": "markdown",
   "metadata": {},
   "source": [
    "## Evaluation\n",
    "\n",
    "Finally, having tuned our kNN algorithm, we can evaluate its performance with cross-fold validation.  First we make the kNN functions, both classification and regression, with k=17.  Then we compare the performance of the kNN algorithm to the baseline models, and print the results."
   ]
  },
  {
   "cell_type": "code",
   "execution_count": 36,
   "metadata": {},
   "outputs": [],
   "source": [
    "knn_cat = make_knn_func(knn_cat_classification, 17)\n",
    "knn_reg = make_knn_func(knn_real_regression, 17)"
   ]
  },
  {
   "cell_type": "code",
   "execution_count": 37,
   "metadata": {},
   "outputs": [
    {
     "name": "stdout",
     "output_type": "stream",
     "text": [
      "Baseline classification:\n",
      "Fold\t  Train\t\t Test\n",
      "1:\t  0.4299 \t 0.3899\n",
      "2:\t  0.4295 \t 0.3937\n",
      "3:\t  0.4281 \t 0.4062\n",
      "4:\t  0.4218 \t 0.4625\n",
      "5:\t  0.4274 \t 0.4125\n",
      "6:\t  0.4218 \t 0.4625\n",
      "7:\t  0.4274 \t 0.4125\n",
      "8:\t  0.4225 \t 0.4562\n",
      "9:\t  0.4267 \t 0.4188\n",
      "10:\t  0.4239 \t 0.4437\n",
      "-----\n",
      "avg\t  0.4259 \t 0.4259\n",
      "std\t  0.0029 \t 0.0265\n"
     ]
    }
   ],
   "source": [
    "print(\"Baseline classification:\")\n",
    "test_result = k_fold_evaluate(data, simple_accuracy, baseline_classification)"
   ]
  },
  {
   "cell_type": "code",
   "execution_count": 38,
   "metadata": {},
   "outputs": [
    {
     "name": "stdout",
     "output_type": "stream",
     "text": [
      "kNN classification:\n",
      "Fold\t  Train\t\t Test\n",
      "1:\t  0.6438 \t 0.5409\n",
      "2:\t  0.6567 \t 0.4562\n",
      "3:\t  0.6268 \t 0.6937\n",
      "4:\t  0.6379 \t 0.6250\n",
      "5:\t  0.6421 \t 0.5875\n",
      "6:\t  0.6407 \t 0.6312\n",
      "7:\t  0.6324 \t 0.6188\n",
      "8:\t  0.6379 \t 0.6125\n",
      "9:\t  0.6567 \t 0.5625\n",
      "10:\t  0.6442 \t 0.5375\n",
      "-----\n",
      "avg\t  0.6419 \t 0.5866\n",
      "std\t  0.0089 \t 0.0622\n"
     ]
    }
   ],
   "source": [
    "print(\"kNN classification:\")\n",
    "test_result = k_fold_evaluate(data, simple_accuracy, knn_cat)"
   ]
  },
  {
   "cell_type": "code",
   "execution_count": 39,
   "metadata": {},
   "outputs": [
    {
     "name": "stdout",
     "output_type": "stream",
     "text": [
      "Baseline regression:\n",
      "Fold\t  Train\t\t Test\n",
      "1:\t  0.6416 \t 0.7438\n",
      "2:\t  0.6573 \t 0.6023\n",
      "3:\t  0.6669 \t 0.5152\n",
      "4:\t  0.6426 \t 0.7346\n",
      "5:\t  0.6549 \t 0.6238\n",
      "6:\t  0.6430 \t 0.7306\n",
      "7:\t  0.6561 \t 0.6147\n",
      "8:\t  0.6509 \t 0.6596\n",
      "9:\t  0.6664 \t 0.5211\n",
      "10:\t  0.6374 \t 0.7811\n",
      "-----\n",
      "avg\t  0.6517 \t 0.6527\n",
      "std\t  0.0099 \t 0.0887\n"
     ]
    }
   ],
   "source": [
    "print(\"Baseline regression:\")\n",
    "test_result = k_fold_evaluate(data, mean_squared_error, baseline_regression)"
   ]
  },
  {
   "cell_type": "code",
   "execution_count": 40,
   "metadata": {},
   "outputs": [
    {
     "name": "stdout",
     "output_type": "stream",
     "text": [
      "kNN regression:\n",
      "Fold\t  Train\t\t Test\n",
      "1:\t  0.3798 \t 0.4748\n",
      "2:\t  0.3870 \t 0.3993\n",
      "3:\t  0.3837 \t 0.4438\n",
      "4:\t  0.3872 \t 0.3983\n",
      "5:\t  0.3867 \t 0.4299\n",
      "6:\t  0.3841 \t 0.4270\n",
      "7:\t  0.3825 \t 0.4546\n",
      "8:\t  0.3854 \t 0.4293\n",
      "9:\t  0.3893 \t 0.3652\n",
      "10:\t  0.3790 \t 0.4974\n",
      "-----\n",
      "avg\t  0.3845 \t 0.4320\n",
      "std\t  0.0032 \t 0.0367\n"
     ]
    }
   ],
   "source": [
    "print(\"kNN regression:\")\n",
    "test_result = k_fold_evaluate(data, mean_squared_error, knn_reg)"
   ]
  },
  {
   "cell_type": "markdown",
   "metadata": {},
   "source": [
    "As we can see, the kNN algorithm performs better than the baseline models, with a mean accuracy of 0.59 compared to 0.43 for the baseline classification model, and a mean squared error of 0.43 compared to 0.65 for the baseline regression model.  This is a good sign that our kNN algorithm is working well, and that our parameter tuning was successful."
   ]
  },
  {
   "cell_type": "markdown",
   "metadata": {},
   "source": [
    "------------------------------"
   ]
  },
  {
   "cell_type": "markdown",
   "metadata": {},
   "source": [
    "As a final check, it's always nice to compare to an established library.  Below, we use the `KNeighborsRegressor` and `KNeighborsClassifier` classes from the `sklearn` library to compare the performance of our kNN algorithm to the performance of the `sklearn` implementation.  We can see that the performance of our kNN algorithm is very similar to the performance of the `sklearn` implementation, which is a good sign that our implementation is working well.  The sklearn library is, of course, much faster and more optimized than our implementation, and running it only takes a few lines of code, but this is how we learn!"
   ]
  },
  {
   "cell_type": "code",
   "execution_count": 44,
   "metadata": {},
   "outputs": [],
   "source": [
    "import sklearn.neighbors"
   ]
  },
  {
   "cell_type": "code",
   "execution_count": 52,
   "metadata": {},
   "outputs": [],
   "source": [
    "data_x = [row[:-1] for row in data]\n",
    "data_y = [row[-1] for row in data]"
   ]
  },
  {
   "cell_type": "code",
   "execution_count": 53,
   "metadata": {},
   "outputs": [
    {
     "name": "stdout",
     "output_type": "stream",
     "text": [
      "Sklearn kNN regression: 0.432907528336412\n"
     ]
    }
   ],
   "source": [
    "model = sklearn.neighbors.KNeighborsRegressor(n_neighbors=17)\n",
    "model.fit(data_x[:1200], data_y[:1200])\n",
    "predicted = model.predict(data_x[1200:])\n",
    "print(f\"Sklearn kNN regression: {mean_squared_error(predicted, data_y[1200:])}\")"
   ]
  },
  {
   "cell_type": "code",
   "execution_count": 54,
   "metadata": {},
   "outputs": [
    {
     "name": "stdout",
     "output_type": "stream",
     "text": [
      "Sklearn kNN classification: 0.5789473684210527\n"
     ]
    }
   ],
   "source": [
    "model = sklearn.neighbors.KNeighborsClassifier(n_neighbors=17)\n",
    "model.fit(data_x[:1200], data_y[:1200])\n",
    "predicted = model.predict(data_x[1200:])\n",
    "print(f\"Sklearn kNN classification: {simple_accuracy(predicted, data_y[1200:])}\")"
   ]
  }
 ],
 "metadata": {
  "kernelspec": {
   "display_name": "en605645",
   "language": "python",
   "name": "python3"
  },
  "language_info": {
   "codemirror_mode": {
    "name": "ipython",
    "version": 3
   },
   "file_extension": ".py",
   "mimetype": "text/x-python",
   "name": "python",
   "nbconvert_exporter": "python",
   "pygments_lexer": "ipython3",
   "version": "3.9.1"
  },
  "toc": {
   "colors": {
    "hover_highlight": "#DAA520",
    "navigate_num": "#000000",
    "navigate_text": "#333333",
    "running_highlight": "#FF0000",
    "selected_highlight": "#FFD700",
    "sidebar_border": "#EEEEEE",
    "wrapper_background": "#FFFFFF"
   },
   "moveMenuLeft": true,
   "nav_menu": {
    "height": "117px",
    "width": "252px"
   },
   "navigate_menu": true,
   "number_sections": true,
   "sideBar": true,
   "threshold": 4,
   "toc_cell": false,
   "toc_section_display": "block",
   "toc_window_display": false,
   "widenNotebook": false
  }
 },
 "nbformat": 4,
 "nbformat_minor": 4
}
